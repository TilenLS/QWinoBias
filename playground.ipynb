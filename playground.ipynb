{
 "cells": [
  {
   "cell_type": "code",
   "execution_count": 2,
   "id": "516102d1-b50d-4cf9-9eab-b4326a4c3509",
   "metadata": {},
   "outputs": [],
   "source": [
    "from lambeq import BobcatParser, AtomicType, RemoveCupsRewriter, UnifyCodomainRewriter, Rewriter, IQPAnsatz\n",
    "from lambeq.backend.grammar import Spider\n",
    "from discopro.anaphora import connect_anaphora_on_top\n",
    "from discopro.grammar import tensor\n",
    "import pandas as pd\n",
    "import numpy as np\n",
    "import os, sys, datetime, pickle\n",
    "from tqdm import tqdm\n",
    "\n",
    "remove_cups = RemoveCupsRewriter()\n",
    "\n",
    "parser = BobcatParser()\n",
    "rewriter = Rewriter(['curry'])\n",
    "# rewriter = Rewriter(['auxiliary',\n",
    "#                      'connector',\n",
    "#                      'coordination',\n",
    "#                      'determiner',\n",
    "#                      'object_rel_pronoun',\n",
    "#                      'subject_rel_pronoun',\n",
    "#                      'postadverb',\n",
    "#                      'preadverb',\n",
    "#                      'prepositional_phrase'])\n",
    "\n",
    "N = AtomicType.NOUN\n",
    "S = AtomicType.SENTENCE\n",
    "P = AtomicType.PREPOSITIONAL_PHRASE\n",
    "\n",
    "ansatz = IQPAnsatz({N: 1, S: 1, P:1}, n_layers=1, n_single_qubit_params=3)"
   ]
  },
  {
   "cell_type": "code",
   "execution_count": 3,
   "id": "e0b3ac6e-5896-49d9-a3e3-850509b2782b",
   "metadata": {},
   "outputs": [],
   "source": [
    "def sent2dig(sentence, pro1, ref, pro2=''):\n",
    "    diagram = parser.sentence2diagram(sentence)\n",
    "    #diagram = diagram >> Spider(S, 2, 1)\n",
    "    pro_box_idx = next(i for i, box in enumerate(diagram.boxes) if (box.name.casefold() == pro1.casefold() or box.name.casefold() == pro2.casefold()))\n",
    "    ref_box_idx = next(i for i, box in enumerate(diagram.boxes) if box.name.casefold() == ref.casefold())\n",
    "    diagram = connect_anaphora_on_top(diagram, pro_box_idx, ref_box_idx)\n",
    "    diagram = rewriter(remove_cups(diagram)).normal_form()\n",
    "    return diagram"
   ]
  },
  {
   "cell_type": "code",
   "execution_count": 4,
   "id": "6a682b80-813d-4687-afb0-bc5cf07f1cc4",
   "metadata": {},
   "outputs": [],
   "source": [
    "def gen_labels(path: str, verbose=False, frac=1, save=False):\n",
    "    df = pd.read_pickle(path)\n",
    "    df = df.sample(frac=frac)\n",
    "    \n",
    "    if not os.path.exists(os.getcwd()+'/err_logs'):\n",
    "        os.mkdir(os.getcwd()+'/err_logs')\n",
    "    timestamp = datetime.datetime.now().strftime(\"%Y-%m-%d_%H_%M_%S\")\n",
    "    f = open(\"err_logs/log_\"+path.split('/')[-1].split('.')[-2]+'_'+timestamp+\".txt\", 'w')\n",
    "    \n",
    "    circuits, labels, diagrams, sentences = [],[],[], []\n",
    "    for i, row in tqdm(df.iterrows(), total=len(df), position=0, leave=True):\n",
    "        sentence, pro1, pro2, right_ref, wrong_ref = row[['Sentence', 'Pronoun 1', 'Pronoun 2', 'Right Referent', 'Wrong Referent']]\n",
    "\n",
    "        try:\n",
    "            diagram_right = sent2dig(sentence.strip(), pro1.strip(), right_ref.strip(), pro2.strip())\n",
    "            diagram_wrong = sent2dig(sentence.strip(), pro1.strip(), wrong_ref.strip(), pro2.strip())\n",
    "            diagrams.append(diagram_right)\n",
    "            circuits.append(ansatz(diagram_right))\n",
    "            labels.append([0,1])\n",
    "            sentences.append(sentence)\n",
    "            diagrams.append(diagram_wrong)\n",
    "            circuits.append(ansatz(diagram_wrong))\n",
    "            labels.append([1,0])\n",
    "            sentences.append(sentence)\n",
    "        except Exception as err:\n",
    "            tqdm.write(f\"Error: {err}\".strip(), file=f)\n",
    "            if verbose:\n",
    "                tqdm.write(f\"Error: {err}\".strip(), file=sys.stderr)\n",
    "    f.close()\n",
    "    if save:\n",
    "        f = open('wino/data/train_data_'+datetime.datetime.now().strftime(\"%Y-%m-%d_%H%M%S\")+'.pkl', 'wb')\n",
    "        pickle.dump(list(zip(circuits, labels, diagrams, sentences)), f)\n",
    "        f.close()\n",
    "    else:\n",
    "        return circuits, labels, diagrams"
   ]
  },
  {
   "cell_type": "code",
   "execution_count": 67,
   "id": "306e68ff-8270-435e-9738-61c0b6fe1de0",
   "metadata": {},
   "outputs": [
    {
     "name": "stderr",
     "output_type": "stream",
     "text": [
      "100%|█████████████████████████████████████████████████████████████████████████████████████████████████████████████████████████████| 1584/1584 [12:35<00:00,  2.10it/s]\n"
     ]
    }
   ],
   "source": [
    "gen_labels(path=\"wino/data/train_sentences.pkl\", save=True)"
   ]
  },
  {
   "cell_type": "code",
   "execution_count": 10,
   "id": "6c362615-cf71-43a0-8639-92be43fa3bf4",
   "metadata": {},
   "outputs": [],
   "source": [
    "data_test = pd.read_pickle(\"wino/data/test_data_2024-09-30_151644.pkl\")"
   ]
  },
  {
   "cell_type": "code",
   "execution_count": 12,
   "id": "3ff241cf-ab44-4cc3-ac6e-a1890c39cbaf",
   "metadata": {},
   "outputs": [],
   "source": [
    "from random import shuffle \n",
    "shuffle(data_test)"
   ]
  },
  {
   "cell_type": "code",
   "execution_count": 13,
   "id": "8833bf69-5cc4-4a56-b9a5-ea1ff7af85bd",
   "metadata": {},
   "outputs": [],
   "source": [
    "from math import floor\n",
    "test_data = data_test[:floor(len(data_test)*0.4)]\n",
    "val_data = data_test[floor(len(data_test)*0.4):floor(len(data_test)*0.8)]\n",
    "unseen_data = data_test[floor(len(data_test)*0.8):]"
   ]
  },
  {
   "cell_type": "code",
   "execution_count": 23,
   "id": "eb1a9fbc-4b93-4ee5-9ec5-26a631bcd33d",
   "metadata": {},
   "outputs": [],
   "source": [
    "f = open('wino/data/data_final/unseen_data.pkl', 'wb')\n",
    "pickle.dump(unseen_data, f)\n",
    "f.close()"
   ]
  },
  {
   "cell_type": "code",
   "execution_count": 3,
   "id": "b58630c2-4723-466a-bdf7-740c98f71dba",
   "metadata": {},
   "outputs": [],
   "source": [
    "train = pd.read_pickle(\"wino/data/data_final/train_data.pkl\")\n",
    "test = pd.read_pickle(\"wino/data/data_final/test_data.pkl\")\n",
    "val = pd.read_pickle(\"wino/data/data_final/val_data.pkl\")\n",
    "unseen = pd.read_pickle(\"wino/data/data_final/unseen_data.pkl\")"
   ]
  },
  {
   "cell_type": "code",
   "execution_count": 5,
   "id": "5c8f6d45-3bc5-48b5-bf6d-979939d363f1",
   "metadata": {},
   "outputs": [],
   "source": [
    "from lambeq import NumpyModel\n",
    "model = NumpyModel.from_checkpoint('runs/Oct01_16-32-34_smew-l.cs.ucl.ac.uk/best_model.lt')\n",
    "model.initialise_weights()"
   ]
  },
  {
   "cell_type": "code",
   "execution_count": 40,
   "id": "99413a1c-ac80-413b-a003-26c217b3e3f3",
   "metadata": {},
   "outputs": [],
   "source": [
    "df = pd.read_pickle('wino/data/train_sentences.pkl')"
   ]
  },
  {
   "cell_type": "code",
   "execution_count": 50,
   "id": "908d57c2-f1ff-42e6-ab1d-4df176d84eff",
   "metadata": {},
   "outputs": [],
   "source": [
    "match = df[df['Sentence'] == unseen[101][3]] "
   ]
  },
  {
   "cell_type": "code",
   "execution_count": 75,
   "id": "fe74dc6f-c5d7-4dac-99ce-8345698541c5",
   "metadata": {
    "scrolled": true
   },
   "outputs": [
    {
     "name": "stderr",
     "output_type": "stream",
     "text": [
      "100%|███████████████████████████████████████████████████████████████████████████████████████████████████████████████████████████████| 510/510 [00:11<00:00, 43.15it/s]\n"
     ]
    }
   ],
   "source": [
    "df = pd.read_pickle('wino/data/train_sentences.pkl')\n",
    "results = []\n",
    "for tup in tqdm(unseen):\n",
    "    try:\n",
    "        pred = model.get_diagram_output([tup[0]])[0]\n",
    "        match = df[df['Sentence'] == tup[3]]\n",
    "        ans = [match['Pronoun 1'].values[0]]\n",
    "        if match['Pronoun 2'].values[0]:\n",
    "            ans.append(match['Pronoun 2'].values[0])\n",
    "        if tup[1] == [0,1]: \n",
    "            ans.append(match['Right Referent'].values[0])\n",
    "        else:\n",
    "            ans.append(match['Wrong Referent'].values[0])\n",
    "        results.append((pred, tup[1], tup[3], ans))\n",
    "    except:\n",
    "        pass"
   ]
  },
  {
   "cell_type": "code",
   "execution_count": 88,
   "id": "d8bd446a-afb1-4c98-a036-97d8331f5b57",
   "metadata": {},
   "outputs": [],
   "source": [
    "pred, ans, sent, con = zip(*results)\n",
    "pred = np.array(pred)\n",
    "ans = np.array(ans)"
   ]
  },
  {
   "cell_type": "code",
   "execution_count": 90,
   "id": "4913fe3e-a354-43f2-a6bd-cab00fb322b9",
   "metadata": {},
   "outputs": [
    {
     "data": {
      "text/plain": [
       "0.33051786460141463"
      ]
     },
     "execution_count": 90,
     "metadata": {},
     "output_type": "execute_result"
    }
   ],
   "source": [
    "np.mean(abs(pred - ans)**2)"
   ]
  },
  {
   "cell_type": "code",
   "execution_count": 91,
   "id": "fa6c2a81-a7c4-4f43-ad6c-d4b56f1d5f0f",
   "metadata": {},
   "outputs": [],
   "source": [
    "from sklearn.metrics import r2_score\n",
    "coeff = r2_score(ans, pred)"
   ]
  },
  {
   "cell_type": "code",
   "execution_count": 92,
   "id": "5d6c10a4-5a89-4329-a921-9dce491a768c",
   "metadata": {},
   "outputs": [
    {
     "data": {
      "text/plain": [
       "-0.3220714584056572"
      ]
     },
     "execution_count": 92,
     "metadata": {},
     "output_type": "execute_result"
    }
   ],
   "source": [
    "coeff"
   ]
  },
  {
   "cell_type": "code",
   "execution_count": 93,
   "id": "bee970a9-9add-4682-acb0-7980768cfc14",
   "metadata": {},
   "outputs": [],
   "source": [
    "from sklearn.metrics import mean_squared_error\n",
    "mse = mean_squared_error(ans, pred)"
   ]
  },
  {
   "cell_type": "code",
   "execution_count": 94,
   "id": "e581d08a-fd73-40d9-b7a9-95f253293978",
   "metadata": {},
   "outputs": [
    {
     "data": {
      "text/plain": [
       "0.3305178646014143"
      ]
     },
     "execution_count": 94,
     "metadata": {},
     "output_type": "execute_result"
    }
   ],
   "source": [
    "mse"
   ]
  }
 ],
 "metadata": {
  "kernelspec": {
   "display_name": "qnlp",
   "language": "python",
   "name": "qnlp"
  },
  "language_info": {
   "codemirror_mode": {
    "name": "ipython",
    "version": 3
   },
   "file_extension": ".py",
   "mimetype": "text/x-python",
   "name": "python",
   "nbconvert_exporter": "python",
   "pygments_lexer": "ipython3",
   "version": "3.12.4"
  }
 },
 "nbformat": 4,
 "nbformat_minor": 5
}
